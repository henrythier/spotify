{
 "cells": [
  {
   "cell_type": "markdown",
   "metadata": {},
   "source": [
    "# Fischmarkt Spotify Analysis\n",
    "This notebook explores the legendary fischmarkt mit der gang playlists created by the fischmarkt legends Freddy, Steffen and Henry.\n",
    "\n",
    "To this date, there are six playlists:\n",
    "- [v1](https://open.spotify.com/playlist/3hWJlo2emaZ3prlBcZNrSs?si=7TX9eROyT2GxIceX_l5ZDg)\n",
    "- [v2](https://open.spotify.com/playlist/3bVBRlfXKvgUem33ZbGtHU?si=mbz0Q-2uQIWMdIBRQlgbJg)\n",
    "- [v3](https://open.spotify.com/playlist/6uZ4P3JkWXqj1258Ub8vMH?si=6ZGeiIuLQUyBH6MoK8U9Wg)\n",
    "- [v4](https://open.spotify.com/playlist/09Wqa8W5g2iGTXsK1MJPFC?si=NWo20lnFQdaUtk4MMAlbEg)\n",
    "- [v5](https://open.spotify.com/playlist/5Vvc0zw608FfwWmXHjr6tb?si=ZWvtm2UuRCKZzY2aEKR6dA)\n",
    "- [v6](https://open.spotify.com/playlist/4RHM7Kk3VtOljBhKdGym8B?si=ydSvyE_kTqmewCUV6EdvDA)"
   ]
  },
  {
   "cell_type": "markdown",
   "metadata": {},
   "source": [
    "## Set env variables\n",
    "First, the credentials for the spotify API have to be set to the env so that they can be accessed by the spotipy library."
   ]
  },
  {
   "cell_type": "code",
   "execution_count": 1,
   "metadata": {},
   "outputs": [],
   "source": [
    "import config\n",
    "import os\n",
    "os.environ[\"SPOTIPY_CLIENT_ID\"] = config.spotify_credentials['id']\n",
    "os.environ[\"SPOTIPY_CLIENT_SECRET\"] = config.spotify_credentials['password']"
   ]
  },
  {
   "cell_type": "markdown",
   "metadata": {},
   "source": [
    "## Import the required modules and set constants\n",
    "Then the required modules are imported, and the user and playlist ID's are set."
   ]
  },
  {
   "cell_type": "code",
   "execution_count": 2,
   "metadata": {},
   "outputs": [],
   "source": [
    "import pandas as pd\n",
    "import spotipy\n",
    "import matplotlib.pyplot as plt\n",
    "import matplotlib.dates as mdates\n",
    "import seaborn as sns\n",
    "import string \n",
    "from spotipy.oauth2 import SpotifyClientCredentials\n",
    "fischmarkt_uris =['spotify:playlist:3hWJlo2emaZ3prlBcZNrSs',\n",
    "                  'spotify:playlist:3bVBRlfXKvgUem33ZbGtHU',\n",
    "                  'spotify:playlist:6uZ4P3JkWXqj1258Ub8vMH',\n",
    "                  'spotify:playlist:09Wqa8W5g2iGTXsK1MJPFC',\n",
    "                  'spotify:playlist:5Vvc0zw608FfwWmXHjr6tb',\n",
    "                  'spotify:playlist:4RHM7Kk3VtOljBhKdGym8B']\n",
    "columns = ['added_at', 'track_name', 'track_id', 'artists', 'added_by', 'explicit', 'duration',  'album_name', 'album_id', 'release_date', 'V']\n",
    "users = config.users"
   ]
  },
  {
   "cell_type": "markdown",
   "metadata": {},
   "source": [
    "## Get playlist JSONs from spotify API\n"
   ]
  },
  {
   "cell_type": "code",
   "execution_count": 3,
   "metadata": {},
   "outputs": [],
   "source": [
    "playlist_jsons = []\n",
    "for uri in fischmarkt_uris:\n",
    "    spotify = spotipy.Spotify(client_credentials_manager=SpotifyClientCredentials())\n",
    "    results = spotify.playlist(uri)\n",
    "    playlist_jsons.append(results)"
   ]
  },
  {
   "cell_type": "markdown",
   "metadata": {},
   "source": [
    "## Parse the JSONs to a panda Dataframe"
   ]
  },
  {
   "cell_type": "code",
   "execution_count": 4,
   "metadata": {},
   "outputs": [],
   "source": [
    "playlist_dfs = []\n",
    "counter = 0\n",
    "for json in playlist_jsons:\n",
    "    df = pd.DataFrame.from_dict(json['tracks']['items'])\n",
    "    df['V'] = counter\n",
    "    counter += 1\n",
    "    playlist_dfs.append(df)\n",
    "\n",
    "df = pd.concat(playlist_dfs, ignore_index=True)"
   ]
  },
  {
   "cell_type": "markdown",
   "metadata": {},
   "source": [
    "## Rename columns, format values and drop unnecessary information\n",
    "The columns still contain nested information and some columns such as 'primary color' are not needed. Therefore, the nested information is \"unpacked\" and columns that are not needed are dropped."
   ]
  },
  {
   "cell_type": "code",
   "execution_count": 5,
   "metadata": {},
   "outputs": [
    {
     "data": {
      "text/html": [
       "<div>\n",
       "<style scoped>\n",
       "    .dataframe tbody tr th:only-of-type {\n",
       "        vertical-align: middle;\n",
       "    }\n",
       "\n",
       "    .dataframe tbody tr th {\n",
       "        vertical-align: top;\n",
       "    }\n",
       "\n",
       "    .dataframe thead th {\n",
       "        text-align: right;\n",
       "    }\n",
       "</style>\n",
       "<table border=\"1\" class=\"dataframe\">\n",
       "  <thead>\n",
       "    <tr style=\"text-align: right;\">\n",
       "      <th></th>\n",
       "      <th>Date Added</th>\n",
       "      <th>Track Name</th>\n",
       "      <th>Id</th>\n",
       "      <th>Artists</th>\n",
       "      <th>Gang Member</th>\n",
       "      <th>Explicit</th>\n",
       "      <th>Duration</th>\n",
       "      <th>Album Name</th>\n",
       "      <th>Album Id</th>\n",
       "      <th>Release Date</th>\n",
       "      <th>V</th>\n",
       "      <th>Age</th>\n",
       "    </tr>\n",
       "  </thead>\n",
       "  <tbody>\n",
       "    <tr>\n",
       "      <th>0</th>\n",
       "      <td>2019-04-11 12:56:47</td>\n",
       "      <td>Messer</td>\n",
       "      <td>6Bqm2beg8uT0aEt8GM83LL</td>\n",
       "      <td>[[Prinz Pi, 3OYM3jjPVR60kOqmamRRgk], [Bosse, 2...</td>\n",
       "      <td>Freddy</td>\n",
       "      <td>False</td>\n",
       "      <td>184.044</td>\n",
       "      <td>Messer</td>\n",
       "      <td>7uTSjA9bHLZ2GaYPeh56Cu</td>\n",
       "      <td>2019-03-12</td>\n",
       "      <td>0</td>\n",
       "      <td>30.0</td>\n",
       "    </tr>\n",
       "    <tr>\n",
       "      <th>1</th>\n",
       "      <td>2019-04-11 14:48:55</td>\n",
       "      <td>Ride With Me</td>\n",
       "      <td>3iYN00oie5yQc72NjDKFfJ</td>\n",
       "      <td>[[Thutmose, 1igl9M102nuD96lo3ZoW5d]]</td>\n",
       "      <td>Steffen</td>\n",
       "      <td>True</td>\n",
       "      <td>182.686</td>\n",
       "      <td>Man On Fire Mixtape</td>\n",
       "      <td>4y0lpu374UzSpcTS2y1wCw</td>\n",
       "      <td>2018-10-24</td>\n",
       "      <td>0</td>\n",
       "      <td>169.0</td>\n",
       "    </tr>\n",
       "    <tr>\n",
       "      <th>2</th>\n",
       "      <td>2019-04-11 14:49:56</td>\n",
       "      <td>Paid In Full</td>\n",
       "      <td>1CFbMhxQjCT3OH3YLvBkNF</td>\n",
       "      <td>[[SAFE, 3bnpcWBcvlfq4hPFJjNPbz], [Playboi Cart...</td>\n",
       "      <td>Steffen</td>\n",
       "      <td>True</td>\n",
       "      <td>202.080</td>\n",
       "      <td>Paid In Full</td>\n",
       "      <td>0to6F8xxZGgeFNMq7TEMpi</td>\n",
       "      <td>2019-04-05</td>\n",
       "      <td>0</td>\n",
       "      <td>6.0</td>\n",
       "    </tr>\n",
       "    <tr>\n",
       "      <th>3</th>\n",
       "      <td>2019-04-11 14:50:36</td>\n",
       "      <td>64 Kammern</td>\n",
       "      <td>221oPaI4JfsdkDPryeZWaT</td>\n",
       "      <td>[[Olexesh, 2Z9KL8Zmqx5Sg3cd7Fldhl]]</td>\n",
       "      <td>Freddy</td>\n",
       "      <td>True</td>\n",
       "      <td>261.004</td>\n",
       "      <td>Makadam (Bonus Tracks Version)</td>\n",
       "      <td>66OvSRoGZPWG4kh1wI1OuT</td>\n",
       "      <td>2016-10-21</td>\n",
       "      <td>0</td>\n",
       "      <td>902.0</td>\n",
       "    </tr>\n",
       "    <tr>\n",
       "      <th>4</th>\n",
       "      <td>2019-04-11 14:50:48</td>\n",
       "      <td>Money In The Way</td>\n",
       "      <td>1Du1gIiBziiR6SUx3gnSvr</td>\n",
       "      <td>[[2 Chainz, 17lzZA2AlOHwCwFALHttmp]]</td>\n",
       "      <td>Freddy</td>\n",
       "      <td>True</td>\n",
       "      <td>161.653</td>\n",
       "      <td>Rap Or Go To The League</td>\n",
       "      <td>1BR69wIifGZUSimcuTjWVg</td>\n",
       "      <td>2019-03-01</td>\n",
       "      <td>0</td>\n",
       "      <td>41.0</td>\n",
       "    </tr>\n",
       "    <tr>\n",
       "      <th>...</th>\n",
       "      <td>...</td>\n",
       "      <td>...</td>\n",
       "      <td>...</td>\n",
       "      <td>...</td>\n",
       "      <td>...</td>\n",
       "      <td>...</td>\n",
       "      <td>...</td>\n",
       "      <td>...</td>\n",
       "      <td>...</td>\n",
       "      <td>...</td>\n",
       "      <td>...</td>\n",
       "      <td>...</td>\n",
       "    </tr>\n",
       "    <tr>\n",
       "      <th>360</th>\n",
       "      <td>2020-06-06 16:56:10</td>\n",
       "      <td>DAS RENNEN</td>\n",
       "      <td>3qT2eKpWNq5cze7kGGORDZ</td>\n",
       "      <td>[[RIN, 18ISxWwWjV6rPLoVCXf1dz]]</td>\n",
       "      <td>Steffen</td>\n",
       "      <td>False</td>\n",
       "      <td>193.684</td>\n",
       "      <td>DAS RENNEN</td>\n",
       "      <td>38xCCfybcmBDFD1HVyHhSy</td>\n",
       "      <td>2020-06-05</td>\n",
       "      <td>5</td>\n",
       "      <td>1.0</td>\n",
       "    </tr>\n",
       "    <tr>\n",
       "      <th>361</th>\n",
       "      <td>2020-06-07 06:17:21</td>\n",
       "      <td>San Pellegrino</td>\n",
       "      <td>6kP5RwLme68mX5tt5HOmBx</td>\n",
       "      <td>[[BHZ, 3mmI5HKArDwgggj4j0aJyC], [Monk, 0jEyGu5...</td>\n",
       "      <td>Freddy</td>\n",
       "      <td>True</td>\n",
       "      <td>217.371</td>\n",
       "      <td>3062</td>\n",
       "      <td>7gr2YbcnJF1g6IorxlZBpG</td>\n",
       "      <td>2019-09-13</td>\n",
       "      <td>5</td>\n",
       "      <td>268.0</td>\n",
       "    </tr>\n",
       "    <tr>\n",
       "      <th>362</th>\n",
       "      <td>2020-06-08 12:00:48</td>\n",
       "      <td>Seit du gesagt hast</td>\n",
       "      <td>3pZR2jLSPB7b9kFROuCxZ2</td>\n",
       "      <td>[[Danger Dan, 2jXb8AWz82Sn3RRGOaia7a]]</td>\n",
       "      <td>Henry</td>\n",
       "      <td>False</td>\n",
       "      <td>206.451</td>\n",
       "      <td>Reflexionen aus dem beschönigten Leben</td>\n",
       "      <td>74CrIDwLDcI8HFvye6Vkht</td>\n",
       "      <td>2018-06-01</td>\n",
       "      <td>5</td>\n",
       "      <td>738.0</td>\n",
       "    </tr>\n",
       "    <tr>\n",
       "      <th>363</th>\n",
       "      <td>2020-06-08 20:07:34</td>\n",
       "      <td>Djadja</td>\n",
       "      <td>6FqqTni0AEtGXynpMpDm4L</td>\n",
       "      <td>[[Aya Nakamura, 7IlRNXHjoOCgEAWN5qYksg]]</td>\n",
       "      <td>Freddy</td>\n",
       "      <td>False</td>\n",
       "      <td>171.133</td>\n",
       "      <td>NAKAMURA</td>\n",
       "      <td>1co4qjh6yQGXUnVM52yEYb</td>\n",
       "      <td>2018-11-02</td>\n",
       "      <td>5</td>\n",
       "      <td>584.0</td>\n",
       "    </tr>\n",
       "    <tr>\n",
       "      <th>364</th>\n",
       "      <td>2020-06-09 19:40:08</td>\n",
       "      <td>Beautiful Girls</td>\n",
       "      <td>1hGy2eLcmC8eKx7qr1tOqx</td>\n",
       "      <td>[[Sean Kingston, 6S0dmVVn4udvppDhZIWxCr]]</td>\n",
       "      <td>Freddy</td>\n",
       "      <td>False</td>\n",
       "      <td>225.373</td>\n",
       "      <td>Beautiful Girls</td>\n",
       "      <td>71clfVkkopYLrgweVj2cow</td>\n",
       "      <td>2007-07-23</td>\n",
       "      <td>5</td>\n",
       "      <td>4705.0</td>\n",
       "    </tr>\n",
       "  </tbody>\n",
       "</table>\n",
       "<p>365 rows × 12 columns</p>\n",
       "</div>"
      ],
      "text/plain": [
       "             Date Added           Track Name                      Id  \\\n",
       "0   2019-04-11 12:56:47               Messer  6Bqm2beg8uT0aEt8GM83LL   \n",
       "1   2019-04-11 14:48:55         Ride With Me  3iYN00oie5yQc72NjDKFfJ   \n",
       "2   2019-04-11 14:49:56         Paid In Full  1CFbMhxQjCT3OH3YLvBkNF   \n",
       "3   2019-04-11 14:50:36           64 Kammern  221oPaI4JfsdkDPryeZWaT   \n",
       "4   2019-04-11 14:50:48     Money In The Way  1Du1gIiBziiR6SUx3gnSvr   \n",
       "..                  ...                  ...                     ...   \n",
       "360 2020-06-06 16:56:10           DAS RENNEN  3qT2eKpWNq5cze7kGGORDZ   \n",
       "361 2020-06-07 06:17:21       San Pellegrino  6kP5RwLme68mX5tt5HOmBx   \n",
       "362 2020-06-08 12:00:48  Seit du gesagt hast  3pZR2jLSPB7b9kFROuCxZ2   \n",
       "363 2020-06-08 20:07:34               Djadja  6FqqTni0AEtGXynpMpDm4L   \n",
       "364 2020-06-09 19:40:08      Beautiful Girls  1hGy2eLcmC8eKx7qr1tOqx   \n",
       "\n",
       "                                               Artists Gang Member  Explicit  \\\n",
       "0    [[Prinz Pi, 3OYM3jjPVR60kOqmamRRgk], [Bosse, 2...      Freddy     False   \n",
       "1                 [[Thutmose, 1igl9M102nuD96lo3ZoW5d]]     Steffen      True   \n",
       "2    [[SAFE, 3bnpcWBcvlfq4hPFJjNPbz], [Playboi Cart...     Steffen      True   \n",
       "3                  [[Olexesh, 2Z9KL8Zmqx5Sg3cd7Fldhl]]      Freddy      True   \n",
       "4                 [[2 Chainz, 17lzZA2AlOHwCwFALHttmp]]      Freddy      True   \n",
       "..                                                 ...         ...       ...   \n",
       "360                    [[RIN, 18ISxWwWjV6rPLoVCXf1dz]]     Steffen     False   \n",
       "361  [[BHZ, 3mmI5HKArDwgggj4j0aJyC], [Monk, 0jEyGu5...      Freddy      True   \n",
       "362             [[Danger Dan, 2jXb8AWz82Sn3RRGOaia7a]]       Henry     False   \n",
       "363           [[Aya Nakamura, 7IlRNXHjoOCgEAWN5qYksg]]      Freddy     False   \n",
       "364          [[Sean Kingston, 6S0dmVVn4udvppDhZIWxCr]]      Freddy     False   \n",
       "\n",
       "     Duration                              Album Name                Album Id  \\\n",
       "0     184.044                                  Messer  7uTSjA9bHLZ2GaYPeh56Cu   \n",
       "1     182.686                     Man On Fire Mixtape  4y0lpu374UzSpcTS2y1wCw   \n",
       "2     202.080                            Paid In Full  0to6F8xxZGgeFNMq7TEMpi   \n",
       "3     261.004          Makadam (Bonus Tracks Version)  66OvSRoGZPWG4kh1wI1OuT   \n",
       "4     161.653                 Rap Or Go To The League  1BR69wIifGZUSimcuTjWVg   \n",
       "..        ...                                     ...                     ...   \n",
       "360   193.684                              DAS RENNEN  38xCCfybcmBDFD1HVyHhSy   \n",
       "361   217.371                                    3062  7gr2YbcnJF1g6IorxlZBpG   \n",
       "362   206.451  Reflexionen aus dem beschönigten Leben  74CrIDwLDcI8HFvye6Vkht   \n",
       "363   171.133                                NAKAMURA  1co4qjh6yQGXUnVM52yEYb   \n",
       "364   225.373                         Beautiful Girls  71clfVkkopYLrgweVj2cow   \n",
       "\n",
       "    Release Date  V     Age  \n",
       "0     2019-03-12  0    30.0  \n",
       "1     2018-10-24  0   169.0  \n",
       "2     2019-04-05  0     6.0  \n",
       "3     2016-10-21  0   902.0  \n",
       "4     2019-03-01  0    41.0  \n",
       "..           ... ..     ...  \n",
       "360   2020-06-05  5     1.0  \n",
       "361   2019-09-13  5   268.0  \n",
       "362   2018-06-01  5   738.0  \n",
       "363   2018-11-02  5   584.0  \n",
       "364   2007-07-23  5  4705.0  \n",
       "\n",
       "[365 rows x 12 columns]"
      ]
     },
     "execution_count": 5,
     "metadata": {},
     "output_type": "execute_result"
    }
   ],
   "source": [
    "# unpack information\n",
    "df['track_id'] = df['track'].apply(lambda x: x['id'])\n",
    "df['track_name'] = df['track'].apply(lambda x: x['name'])\n",
    "df['album_id'] = df['track'].apply(lambda x: x['album']['id'])\n",
    "df['album_name'] = df['track'].apply(lambda x: x['album']['name'])\n",
    "df['artists'] = df['track'].apply(lambda x: x['artists'])\n",
    "df['added_by'] = df['added_by'].apply(lambda x: x['uri'])\n",
    "df['explicit'] = df['track'].apply(lambda x: x['explicit'])\n",
    "df['duration'] = df['track'].apply(lambda x: x['duration_ms'] / 1000)\n",
    "df['release_date'] = df['track'].apply(lambda x: x['album']['release_date'])\n",
    "df = df[columns]\n",
    "\n",
    "# transform nested artist info into an array of artists\n",
    "def artist_to_array(artists):\n",
    "    artists_new = []\n",
    "    for a in artists:\n",
    "        artists_new.append([a['name'], a['id']])\n",
    "    return artists_new\n",
    "\n",
    "df['artists'] = df['artists'].apply(artist_to_array)\n",
    "\n",
    "# set correct types of columns\n",
    "df = df.astype({'release_date': 'datetime64[ns]', 'added_at': 'datetime64[ns]'})\n",
    "df['age'] = (df['added_at'] - df['release_date']).dt.days\n",
    "for u in users:\n",
    "    df['added_by'] = df['added_by'].replace(u['id'], u['name'])\n",
    "    \n",
    "# rename columns to make names a bit _nicer_\n",
    "column_name_dict = {'added_at': 'Date Added',\n",
    "               'track_id': 'ID',\n",
    "               'added_by': 'Gang Member'}\n",
    "\n",
    "def nice_column_names(x):\n",
    "    x = x.replace('_', ' ')\n",
    "    x = string.capwords(x)\n",
    "    return x\n",
    "\n",
    "df.rename(columns=column_name_dict, inplace=True)\n",
    "df.columns = list(map(nice_column_names, df.columns))\n",
    "df"
   ]
  },
  {
   "cell_type": "markdown",
   "metadata": {},
   "source": [
    "# Analysis\n",
    "In the following the data on the playlists is explored and analysed\n",
    "\n",
    "### Current number of songs"
   ]
  },
  {
   "cell_type": "code",
   "execution_count": 6,
   "metadata": {},
   "outputs": [
    {
     "data": {
      "text/plain": [
       "365"
      ]
     },
     "execution_count": 6,
     "metadata": {},
     "output_type": "execute_result"
    }
   ],
   "source": [
    "len(df)"
   ]
  },
  {
   "cell_type": "markdown",
   "metadata": {},
   "source": [
    "## By Gang Member\n",
    "This section explores characteristics of the data by user ('memebers' 😉)."
   ]
  },
  {
   "cell_type": "markdown",
   "metadata": {},
   "source": [
    "### Contributions by individual members."
   ]
  },
  {
   "cell_type": "code",
   "execution_count": 7,
   "metadata": {
    "scrolled": true
   },
   "outputs": [
    {
     "data": {
      "text/plain": [
       "Gang Member\n",
       "Freddy     116\n",
       "Henry      144\n",
       "Steffen    105\n",
       "Total      365\n",
       "Name: Date Added, dtype: int64"
      ]
     },
     "execution_count": 7,
     "metadata": {},
     "output_type": "execute_result"
    }
   ],
   "source": [
    "%matplotlib inline\n",
    "colors = ['#731DD8', '#48A9A6', '#F5Cb5C', '#FF9FB2']\n",
    "shades = ['#2e0b56', '#501497', '#731dd8', '#9d60e3', '#c7a4ef', '#e3d1f7']\n",
    "count_df = df.groupby('Gang Member').count()['Date Added'].reset_index()\n",
    "plt.rcParams['figure.figsize'] = [10, 5]\n",
    "sns.set()\n",
    "sns.set_palette(sns.color_palette(colors))\n",
    "count_df = df.groupby('Gang Member').count()['Date Added']\n",
    "count_df.loc['Total'] = count_df.sum()\n",
    "count_df"
   ]
  },
  {
   "cell_type": "code",
   "execution_count": 8,
   "metadata": {},
   "outputs": [
    {
     "data": {
      "text/plain": [
       "<matplotlib.axes._subplots.AxesSubplot at 0x1204f2050>"
      ]
     },
     "execution_count": 8,
     "metadata": {},
     "output_type": "execute_result"
    },
    {
     "data": {
      "image/png": "[encoded data removed]",
      "text/plain": [
       "<Figure size 720x360 with 1 Axes>"
      ]
     },
     "metadata": {},
     "output_type": "display_data"
    }
   ],
   "source": [
    "sns.barplot(x=\"Gang Member\", y=\"Date Added\", data=count_df.reset_index())"
   ]
  },
  {
   "cell_type": "markdown",
   "metadata": {},
   "source": [
    "### Explicit Song Share by Gang Member\n",
    "Share of songs that are marked as \"explicit\" by Spotify."
   ]
  },
  {
   "cell_type": "code",
   "execution_count": 9,
   "metadata": {},
   "outputs": [
    {
     "data": {
      "image/png": "[encoded data removed]",
      "text/plain": [
       "<Figure size 1440x720 with 4 Axes>"
      ]
     },
     "metadata": {},
     "output_type": "display_data"
    },
    {
     "name": "stdout",
     "output_type": "stream",
     "text": [
      "Explicit     Clean  Dirty  Share of Dirty Songs\n",
      "Gang Member                                    \n",
      "Freddy          32     84                 72.41\n",
      "Henry           65     79                 54.86\n",
      "Steffen         38     67                 63.81\n",
      "Total          135    230                 63.01\n"
     ]
    }
   ],
   "source": [
    "explicit_df = df.groupby('Gang Member')['Explicit'].value_counts().unstack().fillna(0).rename(columns={False: 'Clean', True: 'Dirty'})\n",
    "explicit_df.loc[\"Total\"] = explicit_df.sum()\n",
    "explicit_df.T.plot.pie(subplots=True, figsize=(20, 10))\n",
    "\n",
    "# calculate share and round to 2 digits\n",
    "explicit_df['Share of Dirty Songs'] = round((explicit_df['Dirty'] / (explicit_df['Clean'] + explicit_df['Dirty'])) * 100, 2)\n",
    "plt.show()\n",
    "print(explicit_df)"
   ]
  },
  {
   "cell_type": "markdown",
   "metadata": {},
   "source": [
    "## Favorite Artists by Gang Member\n",
    "How many songs by an artist were added to the playlists per member"
   ]
  },
  {
   "cell_type": "code",
   "execution_count": 10,
   "metadata": {},
   "outputs": [
    {
     "name": "stdout",
     "output_type": "stream",
     "text": [
      "Overall Favorite Artists\n",
      "Haftbefehl    12.0\n",
      "Trettmann     11.0\n",
      "JAY-Z         11.0\n",
      "Shindy        11.0\n",
      "Bonez MC      10.0\n",
      "Name: Total, dtype: float64\n",
      "335 different artists are on the fischmarkt lists\n",
      " \n",
      "\n",
      "Favorite Artists of Freddy\n",
      "Olexesh    8.0\n",
      "Tyga       6.0\n",
      "Shindy     6.0\n",
      "Drake      6.0\n",
      "JAY-Z      5.0\n",
      "Name: Freddy, dtype: float64\n",
      "Freddy has added 156 different artists \n",
      " \n",
      "\n",
      "Favorite Artists of Henry\n",
      "Bonez MC       8.0\n",
      "RAF Camora     8.0\n",
      "Trettmann      7.0\n",
      "Haftbefehl     6.0\n",
      "KitschKrieg    6.0\n",
      "Name: Henry, dtype: float64\n",
      "Henry has added 146 different artists \n",
      " \n",
      "\n",
      "Favorite Artists of Steffen\n",
      "Haiyti       5.0\n",
      "Kid Cudi     4.0\n",
      "RIN          4.0\n",
      "badchieff    4.0\n",
      "Trettmann    3.0\n",
      "Name: Steffen, dtype: float64\n",
      "Steffen has added 117 different artists \n",
      " \n",
      "\n"
     ]
    }
   ],
   "source": [
    "a = {}\n",
    "for index, row in df.iterrows():\n",
    "    for artist in row['Artists']:\n",
    "        gm = row['Gang Member']\n",
    "        a_name = artist[0]\n",
    "        if a_name in a:\n",
    "            a[a_name]['Total'] += 1\n",
    "            if gm in a[a_name]:\n",
    "                a[a_name][gm] +=1\n",
    "            else:\n",
    "                a[a_name][gm] = 1\n",
    "        else:\n",
    "            a[a_name] = {'Total': 1, gm: 1}\n",
    "artist_count = pd.DataFrame.from_dict(a).T\n",
    "\n",
    "# print overall favorite artists\n",
    "print('Overall Favorite Artists')\n",
    "print(artist_count.sort_values(by=['Total'], ascending=False)['Total'].head(5))\n",
    "print('%d different artists are on the fischmarkt lists\\n \\n' % (len(artist_count['Total'].dropna())))\n",
    "\n",
    "# print favorite artists\n",
    "for u in users:\n",
    "    n = u['name']\n",
    "    print('Favorite Artists of %s' %n)\n",
    "    print(artist_count.sort_values(by=[n], ascending=False)[n].head(5))\n",
    "    print('%s has added %d different artists \\n \\n' % (n, len(artist_count[n].dropna())))"
   ]
  },
  {
   "cell_type": "code",
   "execution_count": 11,
   "metadata": {
    "scrolled": true
   },
   "outputs": [
    {
     "data": {
      "text/plain": [
       "<matplotlib.axes._subplots.AxesSubplot at 0x123123450>"
      ]
     },
     "execution_count": 11,
     "metadata": {},
     "output_type": "execute_result"
    },
    {
     "data": {
      "image/png": "[encoded data removed]",
      "text/plain": [
       "<Figure size 720x360 with 1 Axes>"
      ]
     },
     "metadata": {},
     "output_type": "display_data"
    }
   ],
   "source": [
    "display_df = artist_count.sort_values('Total', ascending=False)\n",
    "display_df.head(20).sort_values('Total').drop(columns=['Total']).plot(kind='barh', stacked=True)"
   ]
  },
  {
   "cell_type": "markdown",
   "metadata": {},
   "source": [
    "## By Playlist Version\n",
    "This section explores characteristics of by playlists.\n",
    "\n",
    "### Days since release when Song is added to playlist"
   ]
  },
  {
   "cell_type": "code",
   "execution_count": 12,
   "metadata": {
    "scrolled": true
   },
   "outputs": [
    {
     "data": {
      "text/plain": [
       "Text(0, 0.5, 'Average age of song when added to playlist (days)')"
      ]
     },
     "execution_count": 12,
     "metadata": {},
     "output_type": "execute_result"
    },
    {
     "data": {
      "image/png": "[encoded data removed]",
      "text/plain": [
       "<Figure size 720x360 with 1 Axes>"
      ]
     },
     "metadata": {},
     "output_type": "display_data"
    }
   ],
   "source": [
    "age_df = df.groupby(['V'])['Age'].mean().reset_index()\n",
    "actual_version = age_df['V'] + 1\n",
    "sns.barplot(x=actual_version, y='Age', data=age_df, palette=sns.color_palette(shades))\n",
    "plt.xlabel(\"Playlist Version\")\n",
    "plt.ylabel(\"Average age of song when added to playlist (days)\")"
   ]
  }
 ],
 "metadata": {
  "kernelspec": {
   "display_name": "Python 3",
   "language": "python",
   "name": "python3"
  },
  "language_info": {
   "codemirror_mode": {
    "name": "ipython",
    "version": 3
   },
   "file_extension": ".py",
   "mimetype": "text/x-python",
   "name": "python",
   "nbconvert_exporter": "python",
   "pygments_lexer": "ipython3",
   "version": "3.7.7"
  }
 },
 "nbformat": 4,
 "nbformat_minor": 4
}
